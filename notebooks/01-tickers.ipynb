{
 "cells": [
  {
   "cell_type": "markdown",
   "metadata": {},
   "source": [
    "# Ticker Search"
   ]
  },
  {
   "cell_type": "markdown",
   "metadata": {},
   "source": [
    "Imports"
   ]
  },
  {
   "cell_type": "code",
   "execution_count": 1,
   "metadata": {},
   "outputs": [],
   "source": [
    "import os\n",
    "from dotenv import load_dotenv\n",
    "import pandas as pd\n",
    "import finnhub"
   ]
  },
  {
   "cell_type": "markdown",
   "metadata": {},
   "source": [
    "Connect to Finnhub"
   ]
  },
  {
   "cell_type": "code",
   "execution_count": 2,
   "metadata": {},
   "outputs": [],
   "source": [
    "load_dotenv()\n",
    "finnhub_api_key = os.getenv('FINNHUB_API_KEY')\n",
    "fh = finnhub.Client(api_key=finnhub_api_key)"
   ]
  },
  {
   "cell_type": "markdown",
   "metadata": {},
   "source": [
    "Look up tickers by title"
   ]
  },
  {
   "cell_type": "code",
   "execution_count": 3,
   "metadata": {},
   "outputs": [],
   "source": [
    "# Search Finnhub for the recommended ticker\n",
    "spy_tickers = fh.symbol_lookup('SPDR S&P 500 ETF TRUST')\n",
    "sp_500_tickers = fh.symbol_lookup('S&P 500')\n",
    "ndq_100_tickers = fh.symbol_lookup('Nasdaq 100')\n",
    "dj_30_tickers = fh.symbol_lookup('Dow 30')\n",
    "dj_transpo_tickers = fh.symbol_lookup('Dow Jones Transportation')"
   ]
  },
  {
   "cell_type": "markdown",
   "metadata": {},
   "source": [
    "Display the top result for each search"
   ]
  },
  {
   "cell_type": "code",
   "execution_count": 4,
   "metadata": {},
   "outputs": [
    {
     "data": {
      "text/html": [
       "<div>\n",
       "<style scoped>\n",
       "    .dataframe tbody tr th:only-of-type {\n",
       "        vertical-align: middle;\n",
       "    }\n",
       "\n",
       "    .dataframe tbody tr th {\n",
       "        vertical-align: top;\n",
       "    }\n",
       "\n",
       "    .dataframe thead th {\n",
       "        text-align: right;\n",
       "    }\n",
       "</style>\n",
       "<table border=\"1\" class=\"dataframe\">\n",
       "  <thead>\n",
       "    <tr style=\"text-align: right;\">\n",
       "      <th></th>\n",
       "      <th>description</th>\n",
       "      <th>displaySymbol</th>\n",
       "      <th>symbol</th>\n",
       "      <th>type</th>\n",
       "    </tr>\n",
       "  </thead>\n",
       "  <tbody>\n",
       "    <tr>\n",
       "      <th>0</th>\n",
       "      <td>SPDR S&amp;P 500 ETF TRUST</td>\n",
       "      <td>SPY</td>\n",
       "      <td>SPY</td>\n",
       "      <td>ETP</td>\n",
       "    </tr>\n",
       "    <tr>\n",
       "      <th>1</th>\n",
       "      <td>S&amp;P 500</td>\n",
       "      <td>^GSPC</td>\n",
       "      <td>^GSPC</td>\n",
       "      <td>Indice</td>\n",
       "    </tr>\n",
       "    <tr>\n",
       "      <th>2</th>\n",
       "      <td>Nasdaq 100</td>\n",
       "      <td>^NDX</td>\n",
       "      <td>^NDX</td>\n",
       "      <td>Indice</td>\n",
       "    </tr>\n",
       "    <tr>\n",
       "      <th>3</th>\n",
       "      <td>Dow 30</td>\n",
       "      <td>^DJI</td>\n",
       "      <td>^DJI</td>\n",
       "      <td>Indice</td>\n",
       "    </tr>\n",
       "    <tr>\n",
       "      <th>4</th>\n",
       "      <td>Dow Jones Transportation</td>\n",
       "      <td>^DJT</td>\n",
       "      <td>^DJT</td>\n",
       "      <td>Indice</td>\n",
       "    </tr>\n",
       "  </tbody>\n",
       "</table>\n",
       "</div>"
      ],
      "text/plain": [
       "                description displaySymbol symbol    type\n",
       "0    SPDR S&P 500 ETF TRUST           SPY    SPY     ETP\n",
       "1                   S&P 500         ^GSPC  ^GSPC  Indice\n",
       "2                Nasdaq 100          ^NDX   ^NDX  Indice\n",
       "3                    Dow 30          ^DJI   ^DJI  Indice\n",
       "4  Dow Jones Transportation          ^DJT   ^DJT  Indice"
      ]
     },
     "execution_count": 4,
     "metadata": {},
     "output_type": "execute_result"
    }
   ],
   "source": [
    "# Print the top result, SPY ETF\n",
    "spy_result = spy_tickers.get('result')[0]\n",
    "sp_500_result = sp_500_tickers.get('result')[0]\n",
    "ndq_100_result = ndq_100_tickers.get('result')[0]\n",
    "dj_30_result = dj_30_tickers.get('result')[0]\n",
    "dj_transpo_result = dj_transpo_tickers.get('result')[0]\n",
    "pd.DataFrame([spy_result, sp_500_result, ndq_100_result, dj_30_result, dj_transpo_result])"
   ]
  },
  {
   "cell_type": "markdown",
   "metadata": {},
   "source": [
    "These are the tickers we will use"
   ]
  }
 ],
 "metadata": {
  "kernelspec": {
   "display_name": "Python 3.8.13 64-bit ('at')",
   "language": "python",
   "name": "python3"
  },
  "language_info": {
   "codemirror_mode": {
    "name": "ipython",
    "version": 3
   },
   "file_extension": ".py",
   "mimetype": "text/x-python",
   "name": "python",
   "nbconvert_exporter": "python",
   "pygments_lexer": "ipython3",
   "version": "3.8.13"
  },
  "orig_nbformat": 4,
  "vscode": {
   "interpreter": {
    "hash": "6a8629f36d45a3d85eb1e287e6763903bfbb308bbd819369c38c57ed5df5d83b"
   }
  }
 },
 "nbformat": 4,
 "nbformat_minor": 2
}

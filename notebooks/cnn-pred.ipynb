{
 "cells": [
  {
   "cell_type": "code",
   "execution_count": null,
   "metadata": {},
   "outputs": [],
   "source": [
    "import random \n",
    "import numpy as np\n",
    "import pandas as pd\n",
    "import tensorflow as tf\n",
    "from tensorflow.keras import backend as K\n",
    "from tensorflow.keras.layers import Dense, Dropout, Flatten, Conv2D, MaxPool2D, Input\n",
    "from tensorflow.keras.models import Sequential, load_model\n",
    "from tensorflow.keras.callbacks import ModelCheckpoint\n",
    "from sklearn.preprocessing import MinMaxScaler\n",
    "from sklearn.metrics import accuracy_score, f1_score, mean_absolute_error\n",
    "import h5py"
   ]
  },
  {
   "cell_type": "markdown",
   "metadata": {},
   "source": [
    "Declare constants"
   ]
  },
  {
   "cell_type": "code",
   "execution_count": null,
   "metadata": {},
   "outputs": [],
   "source": [
    "TRAIN_TEST_CUTOFF = '2020-01-31'\n",
    "TRAIN_VALID_RATIO = 0.75"
   ]
  },
  {
   "cell_type": "markdown",
   "metadata": {},
   "source": [
    "Define metric functions"
   ]
  },
  {
   "cell_type": "code",
   "execution_count": null,
   "metadata": {},
   "outputs": [],
   "source": [
    "def _recall(y_true, y_pred):\n",
    "    true_positives = K.sum(K.round(K.clip(y_true * y_pred, 0, 1)))\n",
    "    possible_positives = K.sum(K.round(K.clip(y_true, 0, 1)))\n",
    "    recall = true_positives / (possible_positives + K.epsilon())\n",
    "    return recall\n",
    " \n",
    "def _precision(y_true, y_pred):\n",
    "    true_positives = K.sum(K.round(K.clip(y_true * y_pred, 0, 1)))\n",
    "    predicted_positives = K.sum(K.round(K.clip(y_pred, 0, 1)))\n",
    "    precision = true_positives / (predicted_positives + K.epsilon())\n",
    "    return precision\n",
    " \n",
    "def _f1(y_true, y_pred):\n",
    "    precision = _precision(y_true, y_pred)\n",
    "    recall = _recall(y_true, y_pred)\n",
    "    return 2*((precision*recall)/(precision+recall+K.epsilon()))\n",
    " \n",
    "def f1macro(y_true, y_pred):\n",
    "    f_pos = _f1(y_true, y_pred)\n",
    "    # negative version of the data and prediction\n",
    "    f_neg = _f1(1-y_true, 1-K.clip(y_pred,0,1))\n",
    "    return (f_pos + f_neg)/2"
   ]
  },
  {
   "cell_type": "code",
   "execution_count": null,
   "metadata": {},
   "outputs": [],
   "source": [
    "def cnnpred_2d(seq_len=60, n_features=74, n_filters=(8,8,8), droprate=0.1):\n",
    "    \"2D-CNNpred model according to the paper\"\n",
    "    \n",
    "    model = Sequential([\n",
    "        Input(shape=(seq_len, n_features, 1)),\n",
    "        Conv2D(n_filters[0], kernel_size=(1, n_features), activation=\"relu\"),\n",
    "        Conv2D(n_filters[1], kernel_size=(3,1), activation=\"relu\"),\n",
    "        MaxPool2D(pool_size=(2,1)),\n",
    "        Conv2D(n_filters[2], kernel_size=(3,1), activation=\"relu\"),\n",
    "        MaxPool2D(pool_size=(2,1)),\n",
    "        Flatten(),\n",
    "        Dropout(droprate),\n",
    "        Dense(1, activation=\"sigmoid\")\n",
    "    ])\n",
    "\n",
    "    return model\n",
    "\n",
    "cnnpred_2d().summary()"
   ]
  },
  {
   "cell_type": "code",
   "execution_count": null,
   "metadata": {},
   "outputs": [],
   "source": [
    "def datagen(df, seq_len, batch_size, target_col, kind):\n",
    "    \"\"\"A generator to produce samples for Keras model\"\"\"\n",
    "\n",
    "    batch = []\n",
    "\n",
    "    while True:\n",
    "\n",
    "        # Set up splitting parameters\n",
    "        input_cols = [c for c in df.columns if c != target_col]\n",
    "        index = df.index[df.index < TRAIN_TEST_CUTOFF]\n",
    "        split = int(len(index) * TRAIN_VALID_RATIO)\n",
    "\n",
    "        # Range for the training set\n",
    "        if kind == 'train':\n",
    "            index = index[:split]\n",
    "\n",
    "        # Range for the validation set\n",
    "        elif kind == 'valid':\n",
    "            index = index[split:]   \n",
    "\n",
    "        while True:\n",
    "            \"Pick one position, then clip a sequence length\"\n",
    "\n",
    "            # Pick one time step\n",
    "            t = random.choice(index)\n",
    "\n",
    "            # Find its position in the DataFrame      \n",
    "            n = (df.index == t).argmax()\n",
    "\n",
    "            # Start over if there isn't enough data for one sequence length  \n",
    "            if (n - seq_len + 1) < 0:\n",
    "                continue\n",
    "            \n",
    "            # Create the DataFrame of one sequence length\n",
    "            frame = df.iloc[n - seq_len+1 : n+1]\n",
    "\n",
    "            # Append X and y values as a sample in the CNN dataset\n",
    "            batch.append([frame[input_cols].values, df.loc[t, target_col]])\n",
    "\n",
    "            break\n",
    "\n",
    "        # If we get enough for a batch, yield the instance\n",
    "        if len(batch) == batch_size:\n",
    "\n",
    "            # Unpack the `batch` list into features and target\n",
    "            X, y = zip(*batch)\n",
    "\n",
    "            # Expand dimensions of X\n",
    "            X, y = np.expand_dims(np.array(X), 3), np.array(y)\n",
    "\n",
    "            # Yield the sample\n",
    "            yield X, y\n",
    "\n",
    "            # Clear the batch list for next iteration\n",
    "            batch = []"
   ]
  },
  {
   "cell_type": "code",
   "execution_count": null,
   "metadata": {},
   "outputs": [],
   "source": [
    "def testgen(df, seq_len, target_col):\n",
    "    \"Return array of all test samples\"\n",
    "\n",
    "    batch = []\n",
    "\n",
    "    input_cols = [c for c in df.columns if c != target_col]\n",
    "\n",
    "    # find the start of test sample\n",
    "    t = df.index[df.index > TRAIN_TEST_CUTOFF][0]\n",
    "    n = (df.index == t).argmax()\n",
    "\n",
    "    for i in range(n+1, len(df)+1):\n",
    "\n",
    "        frame = df.iloc[i-seq_len:i]\n",
    "        batch.append([frame[input_cols].values, frame[target_col][-1]])\n",
    "\n",
    "    X, y = zip(*batch)\n",
    "\n",
    "    return np.expand_dims(np.array(X),3), np.array(y)"
   ]
  },
  {
   "cell_type": "code",
   "execution_count": null,
   "metadata": {},
   "outputs": [],
   "source": [
    "data = pd.read_csv('../csv/initial_variables.csv', index_col='date', parse_dates=True, infer_datetime_format=True)"
   ]
  },
  {
   "cell_type": "code",
   "execution_count": null,
   "metadata": {},
   "outputs": [],
   "source": [
    "cols = data.columns\n",
    "\n",
    "# If the current price is higher than yesterday's price then target = 1, else 0\n",
    "data['target'] = (data['close'].pct_change().shift(-1) > 0).astype(int)\n",
    "\n",
    "data.dropna(inplace=True)\n",
    "\n",
    "# Fit the standard scaler using the training dataset\n",
    "index = data.index[data.index > TRAIN_TEST_CUTOFF]\n",
    "index = index[:int(len(index) * TRAIN_VALID_RATIO)]\n",
    "scaler = MinMaxScaler().fit(data.loc[index, cols])\n",
    "\n",
    "# Save scale transformed dataframe\n",
    "data[cols] = scaler.transform(data[cols])\n",
    "data"
   ]
  },
  {
   "cell_type": "code",
   "execution_count": null,
   "metadata": {},
   "outputs": [],
   "source": [
    "seq_len = 60\n",
    "batch_size = 64\n",
    "n_epochs = 20\n",
    "n_features = 74\n",
    " \n",
    "model = cnnpred_2d(seq_len, n_features)\n",
    "model.compile(optimizer='adam', loss='mae', metrics=['acc', f1macro])\n",
    "model.summary()"
   ]
  },
  {
   "cell_type": "code",
   "execution_count": null,
   "metadata": {},
   "outputs": [],
   "source": [
    "checkpoint_path = './models/cp2d-{epoch}-{val_f1macro:.2f}.h5'\n",
    "callbacks = [\n",
    "    ModelCheckpoint(checkpoint_path,\n",
    "                    monitor='val_f1macro', mode='max', verbose=0,\n",
    "                    save_best_only=True, save_weights_only=False, save_freq='epoch')\n",
    "]"
   ]
  },
  {
   "cell_type": "code",
   "execution_count": null,
   "metadata": {},
   "outputs": [],
   "source": [
    "training_gen = datagen(data, seq_len, batch_size, 'target', 'train')\n",
    "validation_gen = datagen(data, seq_len, batch_size, 'target', 'valid')\n",
    "\n",
    "model.fit(\n",
    "    training_gen,\n",
    "    validation_data=validation_gen,\n",
    "    epochs=n_epochs, \n",
    "    steps_per_epoch=400, \n",
    "    validation_steps=10, \n",
    "    verbose=1,\n",
    "    callbacks=callbacks\n",
    ")"
   ]
  },
  {
   "cell_type": "code",
   "execution_count": null,
   "metadata": {},
   "outputs": [],
   "source": [
    "# Prepare test data\n",
    "test_data, test_target = testgen(data, seq_len, \"target\")\n",
    " \n",
    "# Test the model\n",
    "test_out = model.predict(test_data)\n",
    "test_pred = (test_out > 0.5).astype(int)\n",
    "print(\"accuracy:\", accuracy_score(test_pred, test_target))\n",
    "print(\"MAE:\", mean_absolute_error(test_pred, test_target))\n",
    "print(\"F1:\", f1_score(test_pred, test_target))"
   ]
  },
  {
   "cell_type": "code",
   "execution_count": null,
   "metadata": {},
   "outputs": [],
   "source": []
  }
 ],
 "metadata": {
  "kernelspec": {
   "display_name": "Python 3.10.5 ('cnn')",
   "language": "python",
   "name": "python3"
  },
  "language_info": {
   "codemirror_mode": {
    "name": "ipython",
    "version": 3
   },
   "file_extension": ".py",
   "mimetype": "text/x-python",
   "name": "python",
   "nbconvert_exporter": "python",
   "pygments_lexer": "ipython3",
   "version": "3.10.5"
  },
  "orig_nbformat": 4,
  "vscode": {
   "interpreter": {
    "hash": "0e134d545e645ca52080ee6eed13987f7920fe874666f42bfb56f6a4194d5976"
   }
  }
 },
 "nbformat": 4,
 "nbformat_minor": 2
}

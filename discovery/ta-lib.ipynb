{
 "cells": [
  {
   "cell_type": "markdown",
   "metadata": {},
   "source": [
    "Imports"
   ]
  },
  {
   "cell_type": "code",
   "execution_count": 2,
   "metadata": {},
   "outputs": [],
   "source": [
    "import os\n",
    "from dotenv import load_dotenv\n",
    "import numpy as np\n",
    "import pandas as pd\n",
    "import finnhub\n",
    "import talib as ta"
   ]
  },
  {
   "cell_type": "markdown",
   "metadata": {},
   "source": [
    "Connect to Finnhub"
   ]
  },
  {
   "cell_type": "code",
   "execution_count": 3,
   "metadata": {},
   "outputs": [],
   "source": [
    "load_dotenv()\n",
    "finnhub_api_key = os.getenv('FINNHUB_API_KEY')\n",
    "fh = finnhub.Client(api_key=finnhub_api_key)"
   ]
  },
  {
   "cell_type": "markdown",
   "metadata": {},
   "source": [
    "Ensure the right ticker"
   ]
  },
  {
   "cell_type": "code",
   "execution_count": 4,
   "metadata": {},
   "outputs": [
    {
     "data": {
      "text/html": [
       "<div>\n",
       "<style scoped>\n",
       "    .dataframe tbody tr th:only-of-type {\n",
       "        vertical-align: middle;\n",
       "    }\n",
       "\n",
       "    .dataframe tbody tr th {\n",
       "        vertical-align: top;\n",
       "    }\n",
       "\n",
       "    .dataframe thead th {\n",
       "        text-align: right;\n",
       "    }\n",
       "</style>\n",
       "<table border=\"1\" class=\"dataframe\">\n",
       "  <thead>\n",
       "    <tr style=\"text-align: right;\">\n",
       "      <th></th>\n",
       "      <th>description</th>\n",
       "      <th>displaySymbol</th>\n",
       "      <th>symbol</th>\n",
       "      <th>type</th>\n",
       "    </tr>\n",
       "  </thead>\n",
       "  <tbody>\n",
       "    <tr>\n",
       "      <th>0</th>\n",
       "      <td>SPDR S&amp;P 500 ETF TRUST</td>\n",
       "      <td>SPY</td>\n",
       "      <td>SPY</td>\n",
       "      <td>ETP</td>\n",
       "    </tr>\n",
       "  </tbody>\n",
       "</table>\n",
       "</div>"
      ],
      "text/plain": [
       "              description displaySymbol symbol type\n",
       "0  SPDR S&P 500 ETF TRUST           SPY    SPY  ETP"
      ]
     },
     "execution_count": 4,
     "metadata": {},
     "output_type": "execute_result"
    }
   ],
   "source": [
    "# Search Finnhub for the recommended ticker\n",
    "tickers = fh.symbol_lookup('SPDR S&P 500 ETF TRUST')\n",
    "\n",
    "# Print the top result, SPY ETF\n",
    "pd.DataFrame(tickers.get('result')).head(1)"
   ]
  },
  {
   "cell_type": "markdown",
   "metadata": {},
   "source": [
    "Get dates for a ten-year window"
   ]
  },
  {
   "cell_type": "code",
   "execution_count": 5,
   "metadata": {},
   "outputs": [],
   "source": [
    "# Get dates for a historical ten-year window\n",
    "now = pd.Timestamp.now()\n",
    "ten_years_ago = now - pd.Timedelta(days=365*10)\n",
    "\n",
    "# Convert to UNIX timestamp\n",
    "now_unix = int(pd.Timestamp.timestamp(now))\n",
    "ten_years_ago_unix = int(pd.Timestamp.timestamp(ten_years_ago))"
   ]
  },
  {
   "cell_type": "markdown",
   "metadata": {},
   "source": [
    "Get SPY OHLCV data"
   ]
  },
  {
   "cell_type": "code",
   "execution_count": 6,
   "metadata": {},
   "outputs": [],
   "source": [
    "ohlcv = fh.stock_candles('SPY', 'D', ten_years_ago_unix, now_unix)"
   ]
  },
  {
   "cell_type": "markdown",
   "metadata": {},
   "source": [
    "Format the data "
   ]
  },
  {
   "cell_type": "code",
   "execution_count": 7,
   "metadata": {},
   "outputs": [
    {
     "data": {
      "text/html": [
       "<div>\n",
       "<style scoped>\n",
       "    .dataframe tbody tr th:only-of-type {\n",
       "        vertical-align: middle;\n",
       "    }\n",
       "\n",
       "    .dataframe tbody tr th {\n",
       "        vertical-align: top;\n",
       "    }\n",
       "\n",
       "    .dataframe thead th {\n",
       "        text-align: right;\n",
       "    }\n",
       "</style>\n",
       "<table border=\"1\" class=\"dataframe\">\n",
       "  <thead>\n",
       "    <tr style=\"text-align: right;\">\n",
       "      <th></th>\n",
       "      <th>c</th>\n",
       "      <th>h</th>\n",
       "      <th>l</th>\n",
       "      <th>o</th>\n",
       "      <th>s</th>\n",
       "      <th>t</th>\n",
       "      <th>v</th>\n",
       "    </tr>\n",
       "  </thead>\n",
       "  <tbody>\n",
       "    <tr>\n",
       "      <th>3646</th>\n",
       "      <td>13737.754101</td>\n",
       "      <td>13813.425255</td>\n",
       "      <td>13717.116514</td>\n",
       "      <td>13758.391689</td>\n",
       "      <td>ok</td>\n",
       "      <td>1658620800</td>\n",
       "      <td>4</td>\n",
       "    </tr>\n",
       "    <tr>\n",
       "      <th>3647</th>\n",
       "      <td>13710.278593</td>\n",
       "      <td>13785.798405</td>\n",
       "      <td>13689.682281</td>\n",
       "      <td>13730.874905</td>\n",
       "      <td>ok</td>\n",
       "      <td>1658707200</td>\n",
       "      <td>88</td>\n",
       "    </tr>\n",
       "    <tr>\n",
       "      <th>3648</th>\n",
       "      <td>13682.858036</td>\n",
       "      <td>13758.226808</td>\n",
       "      <td>13662.302916</td>\n",
       "      <td>13703.413155</td>\n",
       "      <td>ok</td>\n",
       "      <td>1658793600</td>\n",
       "      <td>19</td>\n",
       "    </tr>\n",
       "    <tr>\n",
       "      <th>3649</th>\n",
       "      <td>13707.461144</td>\n",
       "      <td>13730.710354</td>\n",
       "      <td>13634.978310</td>\n",
       "      <td>13676.006329</td>\n",
       "      <td>ok</td>\n",
       "      <td>1658880000</td>\n",
       "      <td>2</td>\n",
       "    </tr>\n",
       "    <tr>\n",
       "      <th>3650</th>\n",
       "      <td>13769.144719</td>\n",
       "      <td>13792.498551</td>\n",
       "      <td>13696.335713</td>\n",
       "      <td>13737.548358</td>\n",
       "      <td>ok</td>\n",
       "      <td>1658966400</td>\n",
       "      <td>4</td>\n",
       "    </tr>\n",
       "  </tbody>\n",
       "</table>\n",
       "</div>"
      ],
      "text/plain": [
       "                 c             h             l             o   s           t  \\\n",
       "3646  13737.754101  13813.425255  13717.116514  13758.391689  ok  1658620800   \n",
       "3647  13710.278593  13785.798405  13689.682281  13730.874905  ok  1658707200   \n",
       "3648  13682.858036  13758.226808  13662.302916  13703.413155  ok  1658793600   \n",
       "3649  13707.461144  13730.710354  13634.978310  13676.006329  ok  1658880000   \n",
       "3650  13769.144719  13792.498551  13696.335713  13737.548358  ok  1658966400   \n",
       "\n",
       "       v  \n",
       "3646   4  \n",
       "3647  88  \n",
       "3648  19  \n",
       "3649   2  \n",
       "3650   4  "
      ]
     },
     "execution_count": 7,
     "metadata": {},
     "output_type": "execute_result"
    }
   ],
   "source": [
    "# Note: price data is already adjusted by Finnhub\n",
    "ohlcv = pd.DataFrame(ohlcv)\n",
    "ohlcv.tail()"
   ]
  },
  {
   "cell_type": "markdown",
   "metadata": {},
   "source": [
    "Check for nulls or missing data"
   ]
  },
  {
   "cell_type": "code",
   "execution_count": 8,
   "metadata": {},
   "outputs": [
    {
     "data": {
      "text/html": [
       "<div>\n",
       "<style scoped>\n",
       "    .dataframe tbody tr th:only-of-type {\n",
       "        vertical-align: middle;\n",
       "    }\n",
       "\n",
       "    .dataframe tbody tr th {\n",
       "        vertical-align: top;\n",
       "    }\n",
       "\n",
       "    .dataframe thead th {\n",
       "        text-align: right;\n",
       "    }\n",
       "</style>\n",
       "<table border=\"1\" class=\"dataframe\">\n",
       "  <thead>\n",
       "    <tr style=\"text-align: right;\">\n",
       "      <th></th>\n",
       "      <th>c</th>\n",
       "      <th>h</th>\n",
       "      <th>l</th>\n",
       "      <th>o</th>\n",
       "      <th>s</th>\n",
       "      <th>t</th>\n",
       "      <th>v</th>\n",
       "    </tr>\n",
       "  </thead>\n",
       "  <tbody>\n",
       "  </tbody>\n",
       "</table>\n",
       "</div>"
      ],
      "text/plain": [
       "Empty DataFrame\n",
       "Columns: [c, h, l, o, s, t, v]\n",
       "Index: []"
      ]
     },
     "execution_count": 8,
     "metadata": {},
     "output_type": "execute_result"
    }
   ],
   "source": [
    "# The `s` column indicates the response status\n",
    "# if there are any issues, the string \"no_data\" is returned from Finnhub\n",
    "ohlcv.loc[ohlcv['s'] == 'no_data']"
   ]
  },
  {
   "cell_type": "code",
   "execution_count": 9,
   "metadata": {},
   "outputs": [
    {
     "data": {
      "text/plain": [
       "False"
      ]
     },
     "execution_count": 9,
     "metadata": {},
     "output_type": "execute_result"
    }
   ],
   "source": [
    "# Check for any null rows\n",
    "ohlcv.isnull().values.any()"
   ]
  },
  {
   "cell_type": "markdown",
   "metadata": {},
   "source": [
    "Drop the status column an create the main DataFrame 'Features'"
   ]
  },
  {
   "cell_type": "code",
   "execution_count": 10,
   "metadata": {},
   "outputs": [
    {
     "data": {
      "text/html": [
       "<div>\n",
       "<style scoped>\n",
       "    .dataframe tbody tr th:only-of-type {\n",
       "        vertical-align: middle;\n",
       "    }\n",
       "\n",
       "    .dataframe tbody tr th {\n",
       "        vertical-align: top;\n",
       "    }\n",
       "\n",
       "    .dataframe thead th {\n",
       "        text-align: right;\n",
       "    }\n",
       "</style>\n",
       "<table border=\"1\" class=\"dataframe\">\n",
       "  <thead>\n",
       "    <tr style=\"text-align: right;\">\n",
       "      <th></th>\n",
       "      <th>close</th>\n",
       "      <th>high</th>\n",
       "      <th>low</th>\n",
       "      <th>open</th>\n",
       "      <th>timestamp</th>\n",
       "      <th>volume</th>\n",
       "    </tr>\n",
       "  </thead>\n",
       "  <tbody>\n",
       "    <tr>\n",
       "      <th>3646</th>\n",
       "      <td>13737.754101</td>\n",
       "      <td>13813.425255</td>\n",
       "      <td>13717.116514</td>\n",
       "      <td>13758.391689</td>\n",
       "      <td>1658620800</td>\n",
       "      <td>4</td>\n",
       "    </tr>\n",
       "    <tr>\n",
       "      <th>3647</th>\n",
       "      <td>13710.278593</td>\n",
       "      <td>13785.798405</td>\n",
       "      <td>13689.682281</td>\n",
       "      <td>13730.874905</td>\n",
       "      <td>1658707200</td>\n",
       "      <td>88</td>\n",
       "    </tr>\n",
       "    <tr>\n",
       "      <th>3648</th>\n",
       "      <td>13682.858036</td>\n",
       "      <td>13758.226808</td>\n",
       "      <td>13662.302916</td>\n",
       "      <td>13703.413155</td>\n",
       "      <td>1658793600</td>\n",
       "      <td>19</td>\n",
       "    </tr>\n",
       "    <tr>\n",
       "      <th>3649</th>\n",
       "      <td>13707.461144</td>\n",
       "      <td>13730.710354</td>\n",
       "      <td>13634.978310</td>\n",
       "      <td>13676.006329</td>\n",
       "      <td>1658880000</td>\n",
       "      <td>2</td>\n",
       "    </tr>\n",
       "    <tr>\n",
       "      <th>3650</th>\n",
       "      <td>13769.144719</td>\n",
       "      <td>13792.498551</td>\n",
       "      <td>13696.335713</td>\n",
       "      <td>13737.548358</td>\n",
       "      <td>1658966400</td>\n",
       "      <td>4</td>\n",
       "    </tr>\n",
       "  </tbody>\n",
       "</table>\n",
       "</div>"
      ],
      "text/plain": [
       "             close          high           low          open   timestamp  \\\n",
       "3646  13737.754101  13813.425255  13717.116514  13758.391689  1658620800   \n",
       "3647  13710.278593  13785.798405  13689.682281  13730.874905  1658707200   \n",
       "3648  13682.858036  13758.226808  13662.302916  13703.413155  1658793600   \n",
       "3649  13707.461144  13730.710354  13634.978310  13676.006329  1658880000   \n",
       "3650  13769.144719  13792.498551  13696.335713  13737.548358  1658966400   \n",
       "\n",
       "      volume  \n",
       "3646       4  \n",
       "3647      88  \n",
       "3648      19  \n",
       "3649       2  \n",
       "3650       4  "
      ]
     },
     "execution_count": 10,
     "metadata": {},
     "output_type": "execute_result"
    }
   ],
   "source": [
    "features = ohlcv.drop(columns='s')\n",
    "features.columns = ['close', 'high', 'low', 'open', 'timestamp', 'volume']\n",
    "features.tail()"
   ]
  },
  {
   "cell_type": "markdown",
   "metadata": {},
   "source": [
    "Derive features with TA Lib"
   ]
  },
  {
   "cell_type": "code",
   "execution_count": 20,
   "metadata": {},
   "outputs": [],
   "source": [
    "close = features['close']\n",
    "high = features['high']\n",
    "low = features['low']\n",
    "\n",
    "# Hilbert Transform - Instantaneous Trendline\n",
    "features['trend'] = ta.HT_TRENDLINE(close)\n",
    "\n",
    "# RSI\n",
    "features['rsi'] = ta.RSI(close, timeperiod=20)\n",
    "\n",
    "# Stochastic RSI\n",
    "features['rsi_fast_k'], features['rsi_fast_d'] = ta.STOCHRSI(\n",
    "    close, \n",
    "    timeperiod=14, \n",
    "    fastk_period=5, \n",
    "    fastd_period=3, \n",
    "    fastd_matype=0\n",
    ")\n",
    "\n",
    "# Williams' %R\n",
    "features['williams_r'] = ta.WILLR(high, low, close, timeperiod=14)\n",
    "\n",
    "# MACD, MACD Signal, MACD Histogram\n",
    "features['macd'], features['macd_signal'], features['macd_hist'] = ta.MACD(\n",
    "    close, \n",
    "    fastperiod=12, \n",
    "    slowperiod=26, \n",
    "    signalperiod=9\n",
    ")\n",
    "\n",
    "# Moving Averages\n",
    "features['ma_20'] = ta.MA(close, timeperiod=20, matype=0)\n",
    "features['ma_50'] = ta.MA(close, timeperiod=50, matype=0)\n",
    "features['ma_65'] = ta.MA(close, timeperiod=65, matype=0)\n",
    "features['ma_200'] = ta.MA(close, timeperiod=200, matype=0)\n",
    "\n",
    "# Bollinger Bands\n",
    "features['bb_upp'], features['bb_mid'], features['bb_low'] = ta.BBANDS(\n",
    "    close, \n",
    "    timeperiod=5, \n",
    "    nbdevup=2, \n",
    "    nbdevdn=2, \n",
    "    matype=0\n",
    ")"
   ]
  },
  {
   "cell_type": "code",
   "execution_count": 21,
   "metadata": {},
   "outputs": [
    {
     "name": "stdout",
     "output_type": "stream",
     "text": [
      "<class 'pandas.core.frame.DataFrame'>\n",
      "RangeIndex: 3651 entries, 0 to 3650\n",
      "Data columns (total 21 columns):\n",
      " #   Column       Non-Null Count  Dtype  \n",
      "---  ------       --------------  -----  \n",
      " 0   close        3651 non-null   float64\n",
      " 1   high         3651 non-null   float64\n",
      " 2   low          3651 non-null   float64\n",
      " 3   open         3651 non-null   float64\n",
      " 4   timestamp    3651 non-null   int64  \n",
      " 5   volume       3651 non-null   int64  \n",
      " 6   trend        3588 non-null   float64\n",
      " 7   rsi          3631 non-null   float64\n",
      " 8   rsi_fast_k   3631 non-null   float64\n",
      " 9   rsi_fast_d   3631 non-null   float64\n",
      " 10  williams_r   3638 non-null   float64\n",
      " 11  macd         3618 non-null   float64\n",
      " 12  macd_signal  3618 non-null   float64\n",
      " 13  macd_hist    3618 non-null   float64\n",
      " 14  ma_20        3632 non-null   float64\n",
      " 15  ma_50        3602 non-null   float64\n",
      " 16  ma_65        3587 non-null   float64\n",
      " 17  ma_200       3452 non-null   float64\n",
      " 18  bb_upp       3647 non-null   float64\n",
      " 19  bb_mid       3647 non-null   float64\n",
      " 20  bb_low       3647 non-null   float64\n",
      "dtypes: float64(19), int64(2)\n",
      "memory usage: 599.1 KB\n"
     ]
    }
   ],
   "source": [
    "features.info()"
   ]
  },
  {
   "cell_type": "code",
   "execution_count": null,
   "metadata": {},
   "outputs": [],
   "source": []
  }
 ],
 "metadata": {
  "kernelspec": {
   "display_name": "Python 3.8.13 ('at')",
   "language": "python",
   "name": "python3"
  },
  "language_info": {
   "codemirror_mode": {
    "name": "ipython",
    "version": 3
   },
   "file_extension": ".py",
   "mimetype": "text/x-python",
   "name": "python",
   "nbconvert_exporter": "python",
   "pygments_lexer": "ipython3",
   "version": "3.8.13"
  },
  "orig_nbformat": 4,
  "vscode": {
   "interpreter": {
    "hash": "87c5b572d513a8e1b16f159e9c08b70227f5428586aa6e244883eac046c1a491"
   }
  }
 },
 "nbformat": 4,
 "nbformat_minor": 2
}

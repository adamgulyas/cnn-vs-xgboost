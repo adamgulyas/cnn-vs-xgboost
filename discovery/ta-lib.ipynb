{
 "cells": [
  {
   "cell_type": "markdown",
   "metadata": {},
   "source": [
    "Imports"
   ]
  },
  {
   "cell_type": "code",
   "execution_count": 2,
   "metadata": {},
   "outputs": [],
   "source": [
    "import os\n",
    "from dotenv import load_dotenv\n",
    "import numpy as np\n",
    "import pandas as pd\n",
    "import finnhub\n",
    "import talib as ta"
   ]
  },
  {
   "cell_type": "markdown",
   "metadata": {},
   "source": [
    "Connect to Finnhub"
   ]
  },
  {
   "cell_type": "code",
   "execution_count": 3,
   "metadata": {},
   "outputs": [],
   "source": [
    "load_dotenv()\n",
    "finnhub_api_key = os.getenv('FINNHUB_API_KEY')\n",
    "fh = finnhub.Client(api_key=finnhub_api_key)"
   ]
  },
  {
   "cell_type": "markdown",
   "metadata": {},
   "source": [
    "Ensure the right ticker"
   ]
  },
  {
   "cell_type": "code",
   "execution_count": 4,
   "metadata": {},
   "outputs": [
    {
     "data": {
      "text/html": [
       "<div>\n",
       "<style scoped>\n",
       "    .dataframe tbody tr th:only-of-type {\n",
       "        vertical-align: middle;\n",
       "    }\n",
       "\n",
       "    .dataframe tbody tr th {\n",
       "        vertical-align: top;\n",
       "    }\n",
       "\n",
       "    .dataframe thead th {\n",
       "        text-align: right;\n",
       "    }\n",
       "</style>\n",
       "<table border=\"1\" class=\"dataframe\">\n",
       "  <thead>\n",
       "    <tr style=\"text-align: right;\">\n",
       "      <th></th>\n",
       "      <th>description</th>\n",
       "      <th>displaySymbol</th>\n",
       "      <th>symbol</th>\n",
       "      <th>type</th>\n",
       "    </tr>\n",
       "  </thead>\n",
       "  <tbody>\n",
       "    <tr>\n",
       "      <th>0</th>\n",
       "      <td>SPDR S&amp;P 500 ETF TRUST</td>\n",
       "      <td>SPY</td>\n",
       "      <td>SPY</td>\n",
       "      <td>ETP</td>\n",
       "    </tr>\n",
       "  </tbody>\n",
       "</table>\n",
       "</div>"
      ],
      "text/plain": [
       "              description displaySymbol symbol type\n",
       "0  SPDR S&P 500 ETF TRUST           SPY    SPY  ETP"
      ]
     },
     "execution_count": 4,
     "metadata": {},
     "output_type": "execute_result"
    }
   ],
   "source": [
    "# Search Finnhub for the recommended ticker\n",
    "tickers = fh.symbol_lookup('SPDR S&P 500 ETF TRUST')\n",
    "\n",
    "# Print the top result, SPY ETF\n",
    "pd.DataFrame(tickers.get('result')).head(1)"
   ]
  },
  {
   "cell_type": "markdown",
   "metadata": {},
   "source": [
    "Get dates for a ten-year window and convert to UNIX Timestamp integers"
   ]
  },
  {
   "cell_type": "code",
   "execution_count": 5,
   "metadata": {},
   "outputs": [],
   "source": [
    "# Create datetime objects\n",
    "end = pd.Timestamp(\"2022-08-01 23:59:00\")\n",
    "start = end - pd.Timedelta(days=365*10+2) # +2 leap days\n",
    "\n",
    "# Convert datetime objects to UNIX timestamp\n",
    "end_unix = int(pd.Timestamp.timestamp(end))\n",
    "start_unix = int(pd.Timestamp.timestamp(start))"
   ]
  },
  {
   "cell_type": "markdown",
   "metadata": {},
   "source": [
    "Get OHLCV data for ticker SPY"
   ]
  },
  {
   "cell_type": "code",
   "execution_count": 6,
   "metadata": {},
   "outputs": [],
   "source": [
    "ohlcv = fh.stock_candles('SPY', 'D', start_unix, end_unix)"
   ]
  },
  {
   "cell_type": "markdown",
   "metadata": {},
   "source": [
    "Format and preview the data "
   ]
  },
  {
   "cell_type": "code",
   "execution_count": 7,
   "metadata": {},
   "outputs": [
    {
     "data": {
      "text/html": [
       "<div>\n",
       "<style scoped>\n",
       "    .dataframe tbody tr th:only-of-type {\n",
       "        vertical-align: middle;\n",
       "    }\n",
       "\n",
       "    .dataframe tbody tr th {\n",
       "        vertical-align: top;\n",
       "    }\n",
       "\n",
       "    .dataframe thead th {\n",
       "        text-align: right;\n",
       "    }\n",
       "</style>\n",
       "<table border=\"1\" class=\"dataframe\">\n",
       "  <thead>\n",
       "    <tr style=\"text-align: right;\">\n",
       "      <th></th>\n",
       "      <th>c</th>\n",
       "      <th>h</th>\n",
       "      <th>l</th>\n",
       "      <th>o</th>\n",
       "      <th>s</th>\n",
       "      <th>t</th>\n",
       "      <th>v</th>\n",
       "    </tr>\n",
       "  </thead>\n",
       "  <tbody>\n",
       "    <tr>\n",
       "      <th>2511</th>\n",
       "      <td>390.89</td>\n",
       "      <td>394.06</td>\n",
       "      <td>389.95</td>\n",
       "      <td>393.84</td>\n",
       "      <td>ok</td>\n",
       "      <td>1658793600</td>\n",
       "      <td>52946393</td>\n",
       "    </tr>\n",
       "    <tr>\n",
       "      <th>2512</th>\n",
       "      <td>401.04</td>\n",
       "      <td>402.88</td>\n",
       "      <td>394.05</td>\n",
       "      <td>394.36</td>\n",
       "      <td>ok</td>\n",
       "      <td>1658880000</td>\n",
       "      <td>82342106</td>\n",
       "    </tr>\n",
       "    <tr>\n",
       "      <th>2513</th>\n",
       "      <td>406.07</td>\n",
       "      <td>406.80</td>\n",
       "      <td>398.15</td>\n",
       "      <td>401.89</td>\n",
       "      <td>ok</td>\n",
       "      <td>1658966400</td>\n",
       "      <td>73966563</td>\n",
       "    </tr>\n",
       "    <tr>\n",
       "      <th>2514</th>\n",
       "      <td>411.99</td>\n",
       "      <td>413.03</td>\n",
       "      <td>406.77</td>\n",
       "      <td>407.58</td>\n",
       "      <td>ok</td>\n",
       "      <td>1659052800</td>\n",
       "      <td>87003672</td>\n",
       "    </tr>\n",
       "    <tr>\n",
       "      <th>2515</th>\n",
       "      <td>410.77</td>\n",
       "      <td>413.41</td>\n",
       "      <td>408.40</td>\n",
       "      <td>409.15</td>\n",
       "      <td>ok</td>\n",
       "      <td>1659312000</td>\n",
       "      <td>69997471</td>\n",
       "    </tr>\n",
       "  </tbody>\n",
       "</table>\n",
       "</div>"
      ],
      "text/plain": [
       "           c       h       l       o   s           t         v\n",
       "2511  390.89  394.06  389.95  393.84  ok  1658793600  52946393\n",
       "2512  401.04  402.88  394.05  394.36  ok  1658880000  82342106\n",
       "2513  406.07  406.80  398.15  401.89  ok  1658966400  73966563\n",
       "2514  411.99  413.03  406.77  407.58  ok  1659052800  87003672\n",
       "2515  410.77  413.41  408.40  409.15  ok  1659312000  69997471"
      ]
     },
     "execution_count": 7,
     "metadata": {},
     "output_type": "execute_result"
    }
   ],
   "source": [
    "# Note: price data is already adjusted by Finnhub\n",
    "ohlcv = pd.DataFrame(ohlcv)\n",
    "ohlcv.tail()"
   ]
  },
  {
   "cell_type": "markdown",
   "metadata": {},
   "source": [
    "Check for nulls or missing data"
   ]
  },
  {
   "cell_type": "code",
   "execution_count": 8,
   "metadata": {},
   "outputs": [
    {
     "data": {
      "text/html": [
       "<div>\n",
       "<style scoped>\n",
       "    .dataframe tbody tr th:only-of-type {\n",
       "        vertical-align: middle;\n",
       "    }\n",
       "\n",
       "    .dataframe tbody tr th {\n",
       "        vertical-align: top;\n",
       "    }\n",
       "\n",
       "    .dataframe thead th {\n",
       "        text-align: right;\n",
       "    }\n",
       "</style>\n",
       "<table border=\"1\" class=\"dataframe\">\n",
       "  <thead>\n",
       "    <tr style=\"text-align: right;\">\n",
       "      <th></th>\n",
       "      <th>c</th>\n",
       "      <th>h</th>\n",
       "      <th>l</th>\n",
       "      <th>o</th>\n",
       "      <th>s</th>\n",
       "      <th>t</th>\n",
       "      <th>v</th>\n",
       "    </tr>\n",
       "  </thead>\n",
       "  <tbody>\n",
       "  </tbody>\n",
       "</table>\n",
       "</div>"
      ],
      "text/plain": [
       "Empty DataFrame\n",
       "Columns: [c, h, l, o, s, t, v]\n",
       "Index: []"
      ]
     },
     "execution_count": 8,
     "metadata": {},
     "output_type": "execute_result"
    }
   ],
   "source": [
    "# The `s` column indicates the response status\n",
    "# if there are any issues, the string \"no_data\" is returned from Finnhub\n",
    "ohlcv.loc[ohlcv['s'] == 'no_data']"
   ]
  },
  {
   "cell_type": "code",
   "execution_count": 9,
   "metadata": {},
   "outputs": [
    {
     "data": {
      "text/plain": [
       "False"
      ]
     },
     "execution_count": 9,
     "metadata": {},
     "output_type": "execute_result"
    }
   ],
   "source": [
    "# Check for any null rows\n",
    "ohlcv.isnull().values.any()"
   ]
  },
  {
   "cell_type": "markdown",
   "metadata": {},
   "source": [
    "Convert UNIX timestamp to date objects and index the date"
   ]
  },
  {
   "cell_type": "code",
   "execution_count": 10,
   "metadata": {},
   "outputs": [],
   "source": [
    "ohlcv['date'] = pd.to_datetime(ohlcv['t'], unit='s')\n",
    "ohlcv = ohlcv.set_index(ohlcv['date'])"
   ]
  },
  {
   "cell_type": "markdown",
   "metadata": {},
   "source": [
    "Drop columns and create the features DataFrame 'X'"
   ]
  },
  {
   "cell_type": "code",
   "execution_count": 11,
   "metadata": {},
   "outputs": [
    {
     "data": {
      "text/html": [
       "<div>\n",
       "<style scoped>\n",
       "    .dataframe tbody tr th:only-of-type {\n",
       "        vertical-align: middle;\n",
       "    }\n",
       "\n",
       "    .dataframe tbody tr th {\n",
       "        vertical-align: top;\n",
       "    }\n",
       "\n",
       "    .dataframe thead th {\n",
       "        text-align: right;\n",
       "    }\n",
       "</style>\n",
       "<table border=\"1\" class=\"dataframe\">\n",
       "  <thead>\n",
       "    <tr style=\"text-align: right;\">\n",
       "      <th></th>\n",
       "      <th>close</th>\n",
       "      <th>high</th>\n",
       "      <th>low</th>\n",
       "      <th>open</th>\n",
       "      <th>volume</th>\n",
       "    </tr>\n",
       "    <tr>\n",
       "      <th>date</th>\n",
       "      <th></th>\n",
       "      <th></th>\n",
       "      <th></th>\n",
       "      <th></th>\n",
       "      <th></th>\n",
       "    </tr>\n",
       "  </thead>\n",
       "  <tbody>\n",
       "    <tr>\n",
       "      <th>2022-07-26</th>\n",
       "      <td>390.89</td>\n",
       "      <td>394.06</td>\n",
       "      <td>389.95</td>\n",
       "      <td>393.84</td>\n",
       "      <td>52946393</td>\n",
       "    </tr>\n",
       "    <tr>\n",
       "      <th>2022-07-27</th>\n",
       "      <td>401.04</td>\n",
       "      <td>402.88</td>\n",
       "      <td>394.05</td>\n",
       "      <td>394.36</td>\n",
       "      <td>82342106</td>\n",
       "    </tr>\n",
       "    <tr>\n",
       "      <th>2022-07-28</th>\n",
       "      <td>406.07</td>\n",
       "      <td>406.80</td>\n",
       "      <td>398.15</td>\n",
       "      <td>401.89</td>\n",
       "      <td>73966563</td>\n",
       "    </tr>\n",
       "    <tr>\n",
       "      <th>2022-07-29</th>\n",
       "      <td>411.99</td>\n",
       "      <td>413.03</td>\n",
       "      <td>406.77</td>\n",
       "      <td>407.58</td>\n",
       "      <td>87003672</td>\n",
       "    </tr>\n",
       "    <tr>\n",
       "      <th>2022-08-01</th>\n",
       "      <td>410.77</td>\n",
       "      <td>413.41</td>\n",
       "      <td>408.40</td>\n",
       "      <td>409.15</td>\n",
       "      <td>69997471</td>\n",
       "    </tr>\n",
       "  </tbody>\n",
       "</table>\n",
       "</div>"
      ],
      "text/plain": [
       "             close    high     low    open    volume\n",
       "date                                                \n",
       "2022-07-26  390.89  394.06  389.95  393.84  52946393\n",
       "2022-07-27  401.04  402.88  394.05  394.36  82342106\n",
       "2022-07-28  406.07  406.80  398.15  401.89  73966563\n",
       "2022-07-29  411.99  413.03  406.77  407.58  87003672\n",
       "2022-08-01  410.77  413.41  408.40  409.15  69997471"
      ]
     },
     "execution_count": 11,
     "metadata": {},
     "output_type": "execute_result"
    }
   ],
   "source": [
    "X = ohlcv.drop(columns=['s', 't', 'date'])\n",
    "X.columns = ['close', 'high', 'low', 'open', 'volume']\n",
    "X.tail()"
   ]
  },
  {
   "cell_type": "markdown",
   "metadata": {},
   "source": [
    "Add technical analysis features to the DataFrame"
   ]
  },
  {
   "cell_type": "code",
   "execution_count": 12,
   "metadata": {},
   "outputs": [],
   "source": [
    "close = X['close']\n",
    "high = X['high']\n",
    "low = X['low']\n",
    "\n",
    "# Hilbert Transform - Instantaneous Trendline\n",
    "X['trend'] = ta.HT_TRENDLINE(close)\n",
    "\n",
    "# RSI\n",
    "X['rsi'] = ta.RSI(close, timeperiod=20)\n",
    "\n",
    "# Stochastic RSI\n",
    "X['rsi_fast_k'], X['rsi_fast_d'] = ta.STOCHRSI(\n",
    "    close, \n",
    "    timeperiod=14, \n",
    "    fastk_period=5, \n",
    "    fastd_period=3, \n",
    "    fastd_matype=0\n",
    ")\n",
    "\n",
    "# Williams' %R\n",
    "X['williams_r'] = ta.WILLR(high, low, close, timeperiod=14)\n",
    "\n",
    "# MACD, MACD Signal, MACD Histogram\n",
    "X['macd'], X['macd_signal'], X['macd_hist'] = ta.MACD(\n",
    "    close, \n",
    "    fastperiod=12, \n",
    "    slowperiod=26, \n",
    "    signalperiod=9\n",
    ")\n",
    "\n",
    "# Moving Averages\n",
    "X['ma_20'] = ta.MA(close, timeperiod=20, matype=0)\n",
    "X['ma_50'] = ta.MA(close, timeperiod=50, matype=0)\n",
    "X['ma_65'] = ta.MA(close, timeperiod=65, matype=0)\n",
    "X['ma_200'] = ta.MA(close, timeperiod=200, matype=0)\n",
    "\n",
    "# Bollinger Bands\n",
    "X['bb_upp'], X['bb_mid'], X['bb_low'] = ta.BBANDS(\n",
    "    close, \n",
    "    timeperiod=5, \n",
    "    nbdevup=2, \n",
    "    nbdevdn=2, \n",
    "    matype=0\n",
    ")\n",
    "\n",
    "# Percentage Price Oscillator\n",
    "X['ppo'] = ta.PPO(close, fastperiod=12, slowperiod=26, matype=0)\n",
    "\n",
    "# Momentum\n",
    "X['mom'] = ta.MOM(close, timeperiod=10)\n",
    "\n",
    "# Rate of Change\n",
    "X['roc'] = ta.ROC(close, timeperiod=10)\n",
    "\n",
    "# Exponential Moving Averages\n",
    "X['ema_20'] = ta.EMA(close, timeperiod=20)\n",
    "X['ema_50'] = ta.EMA(close, timeperiod=50)\n",
    "X['ema_65'] = ta.EMA(close, timeperiod=65)\n",
    "X['ema_200'] = ta.EMA(close, timeperiod=200)"
   ]
  },
  {
   "cell_type": "code",
   "execution_count": 13,
   "metadata": {},
   "outputs": [
    {
     "data": {
      "text/html": [
       "<div>\n",
       "<style scoped>\n",
       "    .dataframe tbody tr th:only-of-type {\n",
       "        vertical-align: middle;\n",
       "    }\n",
       "\n",
       "    .dataframe tbody tr th {\n",
       "        vertical-align: top;\n",
       "    }\n",
       "\n",
       "    .dataframe thead th {\n",
       "        text-align: right;\n",
       "    }\n",
       "</style>\n",
       "<table border=\"1\" class=\"dataframe\">\n",
       "  <thead>\n",
       "    <tr style=\"text-align: right;\">\n",
       "      <th></th>\n",
       "      <th>close</th>\n",
       "      <th>high</th>\n",
       "      <th>low</th>\n",
       "      <th>open</th>\n",
       "      <th>volume</th>\n",
       "      <th>trend</th>\n",
       "      <th>rsi</th>\n",
       "      <th>rsi_fast_k</th>\n",
       "      <th>rsi_fast_d</th>\n",
       "      <th>williams_r</th>\n",
       "      <th>...</th>\n",
       "      <th>bb_upp</th>\n",
       "      <th>bb_mid</th>\n",
       "      <th>bb_low</th>\n",
       "      <th>ppo</th>\n",
       "      <th>mom</th>\n",
       "      <th>roc</th>\n",
       "      <th>ema_20</th>\n",
       "      <th>ema_50</th>\n",
       "      <th>ema_65</th>\n",
       "      <th>ema_200</th>\n",
       "    </tr>\n",
       "    <tr>\n",
       "      <th>date</th>\n",
       "      <th></th>\n",
       "      <th></th>\n",
       "      <th></th>\n",
       "      <th></th>\n",
       "      <th></th>\n",
       "      <th></th>\n",
       "      <th></th>\n",
       "      <th></th>\n",
       "      <th></th>\n",
       "      <th></th>\n",
       "      <th></th>\n",
       "      <th></th>\n",
       "      <th></th>\n",
       "      <th></th>\n",
       "      <th></th>\n",
       "      <th></th>\n",
       "      <th></th>\n",
       "      <th></th>\n",
       "      <th></th>\n",
       "      <th></th>\n",
       "      <th></th>\n",
       "    </tr>\n",
       "  </thead>\n",
       "  <tbody>\n",
       "    <tr>\n",
       "      <th>2022-07-26</th>\n",
       "      <td>390.89</td>\n",
       "      <td>394.06</td>\n",
       "      <td>389.95</td>\n",
       "      <td>393.84</td>\n",
       "      <td>52946393</td>\n",
       "      <td>385.898000</td>\n",
       "      <td>49.785606</td>\n",
       "      <td>0.000000</td>\n",
       "      <td>34.261989</td>\n",
       "      <td>-31.880577</td>\n",
       "      <td>...</td>\n",
       "      <td>400.053078</td>\n",
       "      <td>395.022</td>\n",
       "      <td>389.990922</td>\n",
       "      <td>0.979949</td>\n",
       "      <td>10.06</td>\n",
       "      <td>2.641599</td>\n",
       "      <td>388.656472</td>\n",
       "      <td>394.164873</td>\n",
       "      <td>398.402067</td>\n",
       "      <td>418.154507</td>\n",
       "    </tr>\n",
       "    <tr>\n",
       "      <th>2022-07-27</th>\n",
       "      <td>401.04</td>\n",
       "      <td>402.88</td>\n",
       "      <td>394.05</td>\n",
       "      <td>394.36</td>\n",
       "      <td>82342106</td>\n",
       "      <td>386.804389</td>\n",
       "      <td>55.163433</td>\n",
       "      <td>98.608208</td>\n",
       "      <td>42.891288</td>\n",
       "      <td>-5.778894</td>\n",
       "      <td>...</td>\n",
       "      <td>403.200156</td>\n",
       "      <td>396.276</td>\n",
       "      <td>389.351844</td>\n",
       "      <td>0.988895</td>\n",
       "      <td>22.21</td>\n",
       "      <td>5.862788</td>\n",
       "      <td>389.835856</td>\n",
       "      <td>394.434486</td>\n",
       "      <td>398.482005</td>\n",
       "      <td>417.984213</td>\n",
       "    </tr>\n",
       "    <tr>\n",
       "      <th>2022-07-28</th>\n",
       "      <td>406.07</td>\n",
       "      <td>406.80</td>\n",
       "      <td>398.15</td>\n",
       "      <td>401.89</td>\n",
       "      <td>73966563</td>\n",
       "      <td>387.952778</td>\n",
       "      <td>57.535789</td>\n",
       "      <td>100.000000</td>\n",
       "      <td>66.202736</td>\n",
       "      <td>-2.041387</td>\n",
       "      <td>...</td>\n",
       "      <td>408.274580</td>\n",
       "      <td>397.732</td>\n",
       "      <td>387.189420</td>\n",
       "      <td>1.221374</td>\n",
       "      <td>28.16</td>\n",
       "      <td>7.451510</td>\n",
       "      <td>391.381965</td>\n",
       "      <td>394.890781</td>\n",
       "      <td>398.711944</td>\n",
       "      <td>417.865664</td>\n",
       "    </tr>\n",
       "    <tr>\n",
       "      <th>2022-07-29</th>\n",
       "      <td>411.99</td>\n",
       "      <td>413.03</td>\n",
       "      <td>406.77</td>\n",
       "      <td>407.58</td>\n",
       "      <td>87003672</td>\n",
       "      <td>389.536980</td>\n",
       "      <td>60.148111</td>\n",
       "      <td>100.000000</td>\n",
       "      <td>99.536069</td>\n",
       "      <td>-2.476780</td>\n",
       "      <td>...</td>\n",
       "      <td>416.028323</td>\n",
       "      <td>401.112</td>\n",
       "      <td>386.195677</td>\n",
       "      <td>1.556088</td>\n",
       "      <td>26.86</td>\n",
       "      <td>6.974268</td>\n",
       "      <td>393.344635</td>\n",
       "      <td>395.561338</td>\n",
       "      <td>399.114309</td>\n",
       "      <td>417.807200</td>\n",
       "    </tr>\n",
       "    <tr>\n",
       "      <th>2022-08-01</th>\n",
       "      <td>410.77</td>\n",
       "      <td>413.41</td>\n",
       "      <td>408.40</td>\n",
       "      <td>409.15</td>\n",
       "      <td>69997471</td>\n",
       "      <td>391.093075</td>\n",
       "      <td>59.356006</td>\n",
       "      <td>90.899678</td>\n",
       "      <td>96.966559</td>\n",
       "      <td>-6.230824</td>\n",
       "      <td>...</td>\n",
       "      <td>419.500644</td>\n",
       "      <td>404.152</td>\n",
       "      <td>388.803356</td>\n",
       "      <td>1.931096</td>\n",
       "      <td>28.82</td>\n",
       "      <td>7.545490</td>\n",
       "      <td>395.004193</td>\n",
       "      <td>396.157756</td>\n",
       "      <td>399.467512</td>\n",
       "      <td>417.737178</td>\n",
       "    </tr>\n",
       "  </tbody>\n",
       "</table>\n",
       "<p>5 rows × 27 columns</p>\n",
       "</div>"
      ],
      "text/plain": [
       "             close    high     low    open    volume       trend        rsi  \\\n",
       "date                                                                          \n",
       "2022-07-26  390.89  394.06  389.95  393.84  52946393  385.898000  49.785606   \n",
       "2022-07-27  401.04  402.88  394.05  394.36  82342106  386.804389  55.163433   \n",
       "2022-07-28  406.07  406.80  398.15  401.89  73966563  387.952778  57.535789   \n",
       "2022-07-29  411.99  413.03  406.77  407.58  87003672  389.536980  60.148111   \n",
       "2022-08-01  410.77  413.41  408.40  409.15  69997471  391.093075  59.356006   \n",
       "\n",
       "            rsi_fast_k  rsi_fast_d  williams_r  ...      bb_upp   bb_mid  \\\n",
       "date                                            ...                        \n",
       "2022-07-26    0.000000   34.261989  -31.880577  ...  400.053078  395.022   \n",
       "2022-07-27   98.608208   42.891288   -5.778894  ...  403.200156  396.276   \n",
       "2022-07-28  100.000000   66.202736   -2.041387  ...  408.274580  397.732   \n",
       "2022-07-29  100.000000   99.536069   -2.476780  ...  416.028323  401.112   \n",
       "2022-08-01   90.899678   96.966559   -6.230824  ...  419.500644  404.152   \n",
       "\n",
       "                bb_low       ppo    mom       roc      ema_20      ema_50  \\\n",
       "date                                                                        \n",
       "2022-07-26  389.990922  0.979949  10.06  2.641599  388.656472  394.164873   \n",
       "2022-07-27  389.351844  0.988895  22.21  5.862788  389.835856  394.434486   \n",
       "2022-07-28  387.189420  1.221374  28.16  7.451510  391.381965  394.890781   \n",
       "2022-07-29  386.195677  1.556088  26.86  6.974268  393.344635  395.561338   \n",
       "2022-08-01  388.803356  1.931096  28.82  7.545490  395.004193  396.157756   \n",
       "\n",
       "                ema_65     ema_200  \n",
       "date                                \n",
       "2022-07-26  398.402067  418.154507  \n",
       "2022-07-27  398.482005  417.984213  \n",
       "2022-07-28  398.711944  417.865664  \n",
       "2022-07-29  399.114309  417.807200  \n",
       "2022-08-01  399.467512  417.737178  \n",
       "\n",
       "[5 rows x 27 columns]"
      ]
     },
     "execution_count": 13,
     "metadata": {},
     "output_type": "execute_result"
    }
   ],
   "source": [
    "X.tail()"
   ]
  },
  {
   "cell_type": "markdown",
   "metadata": {},
   "source": [
    "Add bond yields as features"
   ]
  },
  {
   "cell_type": "code",
   "execution_count": 14,
   "metadata": {},
   "outputs": [],
   "source": [
    "X.to_csv('X.csv')"
   ]
  },
  {
   "cell_type": "code",
   "execution_count": null,
   "metadata": {},
   "outputs": [],
   "source": []
  }
 ],
 "metadata": {
  "kernelspec": {
   "display_name": "Python 3.8.13 ('at')",
   "language": "python",
   "name": "python3"
  },
  "language_info": {
   "codemirror_mode": {
    "name": "ipython",
    "version": 3
   },
   "file_extension": ".py",
   "mimetype": "text/x-python",
   "name": "python",
   "nbconvert_exporter": "python",
   "pygments_lexer": "ipython3",
   "version": "3.8.13"
  },
  "orig_nbformat": 4,
  "vscode": {
   "interpreter": {
    "hash": "87c5b572d513a8e1b16f159e9c08b70227f5428586aa6e244883eac046c1a491"
   }
  }
 },
 "nbformat": 4,
 "nbformat_minor": 2
}

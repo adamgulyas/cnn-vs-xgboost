{
 "cells": [
  {
   "cell_type": "markdown",
   "metadata": {},
   "source": [
    "Imports"
   ]
  },
  {
   "cell_type": "code",
   "execution_count": 219,
   "metadata": {},
   "outputs": [],
   "source": [
    "import os\n",
    "from dotenv import load_dotenv\n",
    "import numpy as np\n",
    "import pandas as pd\n",
    "import finnhub\n",
    "import talib as ta"
   ]
  },
  {
   "cell_type": "markdown",
   "metadata": {},
   "source": [
    "Connect to Finnhub"
   ]
  },
  {
   "cell_type": "code",
   "execution_count": 190,
   "metadata": {},
   "outputs": [],
   "source": [
    "load_dotenv()\n",
    "finnhub_api_key = os.getenv('FINNHUB_API_KEY')\n",
    "fh = finnhub.Client(api_key=finnhub_api_key)"
   ]
  },
  {
   "cell_type": "markdown",
   "metadata": {},
   "source": [
    "Ensure the right ticker"
   ]
  },
  {
   "cell_type": "code",
   "execution_count": 200,
   "metadata": {},
   "outputs": [
    {
     "data": {
      "text/html": [
       "<div>\n",
       "<style scoped>\n",
       "    .dataframe tbody tr th:only-of-type {\n",
       "        vertical-align: middle;\n",
       "    }\n",
       "\n",
       "    .dataframe tbody tr th {\n",
       "        vertical-align: top;\n",
       "    }\n",
       "\n",
       "    .dataframe thead th {\n",
       "        text-align: right;\n",
       "    }\n",
       "</style>\n",
       "<table border=\"1\" class=\"dataframe\">\n",
       "  <thead>\n",
       "    <tr style=\"text-align: right;\">\n",
       "      <th></th>\n",
       "      <th>description</th>\n",
       "      <th>displaySymbol</th>\n",
       "      <th>symbol</th>\n",
       "      <th>type</th>\n",
       "    </tr>\n",
       "  </thead>\n",
       "  <tbody>\n",
       "    <tr>\n",
       "      <th>0</th>\n",
       "      <td>SPDR S&amp;P 500 ETF TRUST</td>\n",
       "      <td>SPY</td>\n",
       "      <td>SPY</td>\n",
       "      <td>ETP</td>\n",
       "    </tr>\n",
       "  </tbody>\n",
       "</table>\n",
       "</div>"
      ],
      "text/plain": [
       "              description displaySymbol symbol type\n",
       "0  SPDR S&P 500 ETF TRUST           SPY    SPY  ETP"
      ]
     },
     "execution_count": 200,
     "metadata": {},
     "output_type": "execute_result"
    }
   ],
   "source": [
    "# Search Finnhub for the recommended ticker\n",
    "tickers = fh.symbol_lookup('SPDR S&P 500 ETF TRUST')\n",
    "\n",
    "# Print the top result, SPY ETF\n",
    "pd.DataFrame(tickers.get('result')).head(1)"
   ]
  },
  {
   "cell_type": "markdown",
   "metadata": {},
   "source": [
    "Get dates for a ten-year window"
   ]
  },
  {
   "cell_type": "code",
   "execution_count": 192,
   "metadata": {},
   "outputs": [],
   "source": [
    "# Get dates for a historical ten-year window\n",
    "now = pd.Timestamp.now()\n",
    "ten_years_ago = now - pd.Timedelta(days=365*10)\n",
    "\n",
    "# Convert to UNIX timestamp\n",
    "now_unix = int(pd.Timestamp.timestamp(now))\n",
    "ten_years_ago_unix = int(pd.Timestamp.timestamp(ten_years_ago))"
   ]
  },
  {
   "cell_type": "markdown",
   "metadata": {},
   "source": [
    "Get SPY OHLCV data"
   ]
  },
  {
   "cell_type": "code",
   "execution_count": 193,
   "metadata": {},
   "outputs": [],
   "source": [
    "ohlcv = fh.stock_candles('SPY', 'D', ten_years_ago_unix, now_unix)"
   ]
  },
  {
   "cell_type": "markdown",
   "metadata": {},
   "source": [
    "Format the data "
   ]
  },
  {
   "cell_type": "code",
   "execution_count": 194,
   "metadata": {},
   "outputs": [
    {
     "data": {
      "text/html": [
       "<div>\n",
       "<style scoped>\n",
       "    .dataframe tbody tr th:only-of-type {\n",
       "        vertical-align: middle;\n",
       "    }\n",
       "\n",
       "    .dataframe tbody tr th {\n",
       "        vertical-align: top;\n",
       "    }\n",
       "\n",
       "    .dataframe thead th {\n",
       "        text-align: right;\n",
       "    }\n",
       "</style>\n",
       "<table border=\"1\" class=\"dataframe\">\n",
       "  <thead>\n",
       "    <tr style=\"text-align: right;\">\n",
       "      <th></th>\n",
       "      <th>c</th>\n",
       "      <th>h</th>\n",
       "      <th>l</th>\n",
       "      <th>o</th>\n",
       "      <th>s</th>\n",
       "      <th>t</th>\n",
       "      <th>v</th>\n",
       "    </tr>\n",
       "  </thead>\n",
       "  <tbody>\n",
       "    <tr>\n",
       "      <th>2510</th>\n",
       "      <td>398.79</td>\n",
       "      <td>398.84</td>\n",
       "      <td>391.63</td>\n",
       "      <td>394.16</td>\n",
       "      <td>ok</td>\n",
       "      <td>1658361600</td>\n",
       "      <td>64903856</td>\n",
       "    </tr>\n",
       "    <tr>\n",
       "      <th>2511</th>\n",
       "      <td>395.09</td>\n",
       "      <td>400.18</td>\n",
       "      <td>392.75</td>\n",
       "      <td>398.92</td>\n",
       "      <td>ok</td>\n",
       "      <td>1658448000</td>\n",
       "      <td>72197332</td>\n",
       "    </tr>\n",
       "    <tr>\n",
       "      <th>2512</th>\n",
       "      <td>395.57</td>\n",
       "      <td>396.47</td>\n",
       "      <td>393.21</td>\n",
       "      <td>395.75</td>\n",
       "      <td>ok</td>\n",
       "      <td>1658707200</td>\n",
       "      <td>53631485</td>\n",
       "    </tr>\n",
       "    <tr>\n",
       "      <th>2513</th>\n",
       "      <td>390.89</td>\n",
       "      <td>394.06</td>\n",
       "      <td>389.95</td>\n",
       "      <td>393.84</td>\n",
       "      <td>ok</td>\n",
       "      <td>1658793600</td>\n",
       "      <td>52946393</td>\n",
       "    </tr>\n",
       "    <tr>\n",
       "      <th>2514</th>\n",
       "      <td>401.04</td>\n",
       "      <td>402.88</td>\n",
       "      <td>394.05</td>\n",
       "      <td>394.36</td>\n",
       "      <td>ok</td>\n",
       "      <td>1658880000</td>\n",
       "      <td>82342106</td>\n",
       "    </tr>\n",
       "  </tbody>\n",
       "</table>\n",
       "</div>"
      ],
      "text/plain": [
       "           c       h       l       o   s           t         v\n",
       "2510  398.79  398.84  391.63  394.16  ok  1658361600  64903856\n",
       "2511  395.09  400.18  392.75  398.92  ok  1658448000  72197332\n",
       "2512  395.57  396.47  393.21  395.75  ok  1658707200  53631485\n",
       "2513  390.89  394.06  389.95  393.84  ok  1658793600  52946393\n",
       "2514  401.04  402.88  394.05  394.36  ok  1658880000  82342106"
      ]
     },
     "execution_count": 194,
     "metadata": {},
     "output_type": "execute_result"
    }
   ],
   "source": [
    "ohlcv = pd.DataFrame(ohlcv)\n",
    "ohlcv.tail()"
   ]
  },
  {
   "cell_type": "markdown",
   "metadata": {},
   "source": [
    "Check for nulls or missing data"
   ]
  },
  {
   "cell_type": "code",
   "execution_count": 195,
   "metadata": {},
   "outputs": [
    {
     "data": {
      "text/html": [
       "<div>\n",
       "<style scoped>\n",
       "    .dataframe tbody tr th:only-of-type {\n",
       "        vertical-align: middle;\n",
       "    }\n",
       "\n",
       "    .dataframe tbody tr th {\n",
       "        vertical-align: top;\n",
       "    }\n",
       "\n",
       "    .dataframe thead th {\n",
       "        text-align: right;\n",
       "    }\n",
       "</style>\n",
       "<table border=\"1\" class=\"dataframe\">\n",
       "  <thead>\n",
       "    <tr style=\"text-align: right;\">\n",
       "      <th></th>\n",
       "      <th>c</th>\n",
       "      <th>h</th>\n",
       "      <th>l</th>\n",
       "      <th>o</th>\n",
       "      <th>s</th>\n",
       "      <th>t</th>\n",
       "      <th>v</th>\n",
       "    </tr>\n",
       "  </thead>\n",
       "  <tbody>\n",
       "  </tbody>\n",
       "</table>\n",
       "</div>"
      ],
      "text/plain": [
       "Empty DataFrame\n",
       "Columns: [c, h, l, o, s, t, v]\n",
       "Index: []"
      ]
     },
     "execution_count": 195,
     "metadata": {},
     "output_type": "execute_result"
    }
   ],
   "source": [
    "# The `s` column indicates the response status\n",
    "# if there are any issues, the string \"no_data\" is returned from Finnhub\n",
    "ohlcv.loc[ohlcv['s'] == 'no_data']"
   ]
  },
  {
   "cell_type": "code",
   "execution_count": 196,
   "metadata": {},
   "outputs": [
    {
     "data": {
      "text/plain": [
       "False"
      ]
     },
     "execution_count": 196,
     "metadata": {},
     "output_type": "execute_result"
    }
   ],
   "source": [
    "# Check for any null rows\n",
    "ohlcv.isnull().values.any()"
   ]
  },
  {
   "cell_type": "markdown",
   "metadata": {},
   "source": [
    "Drop the status column an create the main DataFrame 'Features'"
   ]
  },
  {
   "cell_type": "code",
   "execution_count": 202,
   "metadata": {},
   "outputs": [
    {
     "data": {
      "text/html": [
       "<div>\n",
       "<style scoped>\n",
       "    .dataframe tbody tr th:only-of-type {\n",
       "        vertical-align: middle;\n",
       "    }\n",
       "\n",
       "    .dataframe tbody tr th {\n",
       "        vertical-align: top;\n",
       "    }\n",
       "\n",
       "    .dataframe thead th {\n",
       "        text-align: right;\n",
       "    }\n",
       "</style>\n",
       "<table border=\"1\" class=\"dataframe\">\n",
       "  <thead>\n",
       "    <tr style=\"text-align: right;\">\n",
       "      <th></th>\n",
       "      <th>close</th>\n",
       "      <th>high</th>\n",
       "      <th>low</th>\n",
       "      <th>open</th>\n",
       "      <th>timestamp</th>\n",
       "      <th>volume</th>\n",
       "    </tr>\n",
       "  </thead>\n",
       "  <tbody>\n",
       "    <tr>\n",
       "      <th>2510</th>\n",
       "      <td>398.79</td>\n",
       "      <td>398.84</td>\n",
       "      <td>391.63</td>\n",
       "      <td>394.16</td>\n",
       "      <td>1658361600</td>\n",
       "      <td>64903856</td>\n",
       "    </tr>\n",
       "    <tr>\n",
       "      <th>2511</th>\n",
       "      <td>395.09</td>\n",
       "      <td>400.18</td>\n",
       "      <td>392.75</td>\n",
       "      <td>398.92</td>\n",
       "      <td>1658448000</td>\n",
       "      <td>72197332</td>\n",
       "    </tr>\n",
       "    <tr>\n",
       "      <th>2512</th>\n",
       "      <td>395.57</td>\n",
       "      <td>396.47</td>\n",
       "      <td>393.21</td>\n",
       "      <td>395.75</td>\n",
       "      <td>1658707200</td>\n",
       "      <td>53631485</td>\n",
       "    </tr>\n",
       "    <tr>\n",
       "      <th>2513</th>\n",
       "      <td>390.89</td>\n",
       "      <td>394.06</td>\n",
       "      <td>389.95</td>\n",
       "      <td>393.84</td>\n",
       "      <td>1658793600</td>\n",
       "      <td>52946393</td>\n",
       "    </tr>\n",
       "    <tr>\n",
       "      <th>2514</th>\n",
       "      <td>401.04</td>\n",
       "      <td>402.88</td>\n",
       "      <td>394.05</td>\n",
       "      <td>394.36</td>\n",
       "      <td>1658880000</td>\n",
       "      <td>82342106</td>\n",
       "    </tr>\n",
       "  </tbody>\n",
       "</table>\n",
       "</div>"
      ],
      "text/plain": [
       "       close    high     low    open   timestamp    volume\n",
       "2510  398.79  398.84  391.63  394.16  1658361600  64903856\n",
       "2511  395.09  400.18  392.75  398.92  1658448000  72197332\n",
       "2512  395.57  396.47  393.21  395.75  1658707200  53631485\n",
       "2513  390.89  394.06  389.95  393.84  1658793600  52946393\n",
       "2514  401.04  402.88  394.05  394.36  1658880000  82342106"
      ]
     },
     "execution_count": 202,
     "metadata": {},
     "output_type": "execute_result"
    }
   ],
   "source": [
    "features = ohlcv.drop(columns='s')\n",
    "features.columns = ['close', 'high', 'low', 'open', 'timestamp', 'volume']\n",
    "features.tail()"
   ]
  },
  {
   "cell_type": "markdown",
   "metadata": {},
   "source": [
    "Derive features with TA Lib"
   ]
  },
  {
   "cell_type": "code",
   "execution_count": 217,
   "metadata": {},
   "outputs": [],
   "source": [
    "close = features['close']\n",
    "\n",
    "# Hilbert Transform - Instantaneous Trendline\n",
    "features['trend'] = ta.HT_TRENDLINE(close)\n",
    "\n",
    "# RSI\n",
    "features['rsi'] = ta.RSI(close, timeperiod=20)\n",
    "\n",
    "# Stochastic RSI\n",
    "features['rsi_fast_k'], features['rsi_fast_d'] = ta.STOCHRSI(close, timeperiod=14, fastk_period=5, fastd_period=3, fastd_matype=0)"
   ]
  },
  {
   "cell_type": "code",
   "execution_count": 218,
   "metadata": {},
   "outputs": [
    {
     "data": {
      "text/html": [
       "<div>\n",
       "<style scoped>\n",
       "    .dataframe tbody tr th:only-of-type {\n",
       "        vertical-align: middle;\n",
       "    }\n",
       "\n",
       "    .dataframe tbody tr th {\n",
       "        vertical-align: top;\n",
       "    }\n",
       "\n",
       "    .dataframe thead th {\n",
       "        text-align: right;\n",
       "    }\n",
       "</style>\n",
       "<table border=\"1\" class=\"dataframe\">\n",
       "  <thead>\n",
       "    <tr style=\"text-align: right;\">\n",
       "      <th></th>\n",
       "      <th>close</th>\n",
       "      <th>high</th>\n",
       "      <th>low</th>\n",
       "      <th>open</th>\n",
       "      <th>timestamp</th>\n",
       "      <th>volume</th>\n",
       "      <th>trend</th>\n",
       "      <th>rsi</th>\n",
       "      <th>rsi_fast_k</th>\n",
       "      <th>rsi_fast_d</th>\n",
       "    </tr>\n",
       "  </thead>\n",
       "  <tbody>\n",
       "    <tr>\n",
       "      <th>0</th>\n",
       "      <td>138.680</td>\n",
       "      <td>139.339</td>\n",
       "      <td>138.2700</td>\n",
       "      <td>138.52</td>\n",
       "      <td>1343606400</td>\n",
       "      <td>106781926</td>\n",
       "      <td>NaN</td>\n",
       "      <td>NaN</td>\n",
       "      <td>NaN</td>\n",
       "      <td>NaN</td>\n",
       "    </tr>\n",
       "    <tr>\n",
       "      <th>1</th>\n",
       "      <td>137.710</td>\n",
       "      <td>138.870</td>\n",
       "      <td>137.7100</td>\n",
       "      <td>138.49</td>\n",
       "      <td>1343692800</td>\n",
       "      <td>120575835</td>\n",
       "      <td>NaN</td>\n",
       "      <td>NaN</td>\n",
       "      <td>NaN</td>\n",
       "      <td>NaN</td>\n",
       "    </tr>\n",
       "    <tr>\n",
       "      <th>2</th>\n",
       "      <td>137.590</td>\n",
       "      <td>138.730</td>\n",
       "      <td>137.4000</td>\n",
       "      <td>138.70</td>\n",
       "      <td>1343779200</td>\n",
       "      <td>138293740</td>\n",
       "      <td>NaN</td>\n",
       "      <td>NaN</td>\n",
       "      <td>NaN</td>\n",
       "      <td>NaN</td>\n",
       "    </tr>\n",
       "    <tr>\n",
       "      <th>3</th>\n",
       "      <td>136.640</td>\n",
       "      <td>137.570</td>\n",
       "      <td>135.5800</td>\n",
       "      <td>136.55</td>\n",
       "      <td>1343865600</td>\n",
       "      <td>199556580</td>\n",
       "      <td>NaN</td>\n",
       "      <td>NaN</td>\n",
       "      <td>NaN</td>\n",
       "      <td>NaN</td>\n",
       "    </tr>\n",
       "    <tr>\n",
       "      <th>4</th>\n",
       "      <td>139.349</td>\n",
       "      <td>139.640</td>\n",
       "      <td>136.6794</td>\n",
       "      <td>138.56</td>\n",
       "      <td>1343952000</td>\n",
       "      <td>157824975</td>\n",
       "      <td>NaN</td>\n",
       "      <td>NaN</td>\n",
       "      <td>NaN</td>\n",
       "      <td>NaN</td>\n",
       "    </tr>\n",
       "    <tr>\n",
       "      <th>...</th>\n",
       "      <td>...</td>\n",
       "      <td>...</td>\n",
       "      <td>...</td>\n",
       "      <td>...</td>\n",
       "      <td>...</td>\n",
       "      <td>...</td>\n",
       "      <td>...</td>\n",
       "      <td>...</td>\n",
       "      <td>...</td>\n",
       "      <td>...</td>\n",
       "    </tr>\n",
       "    <tr>\n",
       "      <th>60</th>\n",
       "      <td>141.420</td>\n",
       "      <td>142.060</td>\n",
       "      <td>140.8300</td>\n",
       "      <td>141.86</td>\n",
       "      <td>1350950400</td>\n",
       "      <td>192056293</td>\n",
       "      <td>NaN</td>\n",
       "      <td>42.547036</td>\n",
       "      <td>0.000000</td>\n",
       "      <td>0.239554</td>\n",
       "    </tr>\n",
       "    <tr>\n",
       "      <th>61</th>\n",
       "      <td>141.020</td>\n",
       "      <td>142.100</td>\n",
       "      <td>140.8000</td>\n",
       "      <td>141.93</td>\n",
       "      <td>1351036800</td>\n",
       "      <td>120179305</td>\n",
       "      <td>NaN</td>\n",
       "      <td>41.441927</td>\n",
       "      <td>0.000000</td>\n",
       "      <td>0.239554</td>\n",
       "    </tr>\n",
       "    <tr>\n",
       "      <th>62</th>\n",
       "      <td>141.430</td>\n",
       "      <td>142.280</td>\n",
       "      <td>140.5700</td>\n",
       "      <td>142.02</td>\n",
       "      <td>1351123200</td>\n",
       "      <td>134457331</td>\n",
       "      <td>NaN</td>\n",
       "      <td>43.038245</td>\n",
       "      <td>26.377233</td>\n",
       "      <td>8.792411</td>\n",
       "    </tr>\n",
       "    <tr>\n",
       "      <th>63</th>\n",
       "      <td>141.350</td>\n",
       "      <td>141.840</td>\n",
       "      <td>140.3900</td>\n",
       "      <td>141.30</td>\n",
       "      <td>1351209600</td>\n",
       "      <td>146023428</td>\n",
       "      <td>144.089082</td>\n",
       "      <td>42.798613</td>\n",
       "      <td>23.002475</td>\n",
       "      <td>16.459902</td>\n",
       "    </tr>\n",
       "    <tr>\n",
       "      <th>64</th>\n",
       "      <td>141.350</td>\n",
       "      <td>142.030</td>\n",
       "      <td>140.6800</td>\n",
       "      <td>141.85</td>\n",
       "      <td>1351641600</td>\n",
       "      <td>103438492</td>\n",
       "      <td>143.972506</td>\n",
       "      <td>42.798613</td>\n",
       "      <td>87.205792</td>\n",
       "      <td>45.528500</td>\n",
       "    </tr>\n",
       "  </tbody>\n",
       "</table>\n",
       "<p>65 rows × 10 columns</p>\n",
       "</div>"
      ],
      "text/plain": [
       "      close     high       low    open   timestamp     volume       trend  \\\n",
       "0   138.680  139.339  138.2700  138.52  1343606400  106781926         NaN   \n",
       "1   137.710  138.870  137.7100  138.49  1343692800  120575835         NaN   \n",
       "2   137.590  138.730  137.4000  138.70  1343779200  138293740         NaN   \n",
       "3   136.640  137.570  135.5800  136.55  1343865600  199556580         NaN   \n",
       "4   139.349  139.640  136.6794  138.56  1343952000  157824975         NaN   \n",
       "..      ...      ...       ...     ...         ...        ...         ...   \n",
       "60  141.420  142.060  140.8300  141.86  1350950400  192056293         NaN   \n",
       "61  141.020  142.100  140.8000  141.93  1351036800  120179305         NaN   \n",
       "62  141.430  142.280  140.5700  142.02  1351123200  134457331         NaN   \n",
       "63  141.350  141.840  140.3900  141.30  1351209600  146023428  144.089082   \n",
       "64  141.350  142.030  140.6800  141.85  1351641600  103438492  143.972506   \n",
       "\n",
       "          rsi  rsi_fast_k  rsi_fast_d  \n",
       "0         NaN         NaN         NaN  \n",
       "1         NaN         NaN         NaN  \n",
       "2         NaN         NaN         NaN  \n",
       "3         NaN         NaN         NaN  \n",
       "4         NaN         NaN         NaN  \n",
       "..        ...         ...         ...  \n",
       "60  42.547036    0.000000    0.239554  \n",
       "61  41.441927    0.000000    0.239554  \n",
       "62  43.038245   26.377233    8.792411  \n",
       "63  42.798613   23.002475   16.459902  \n",
       "64  42.798613   87.205792   45.528500  \n",
       "\n",
       "[65 rows x 10 columns]"
      ]
     },
     "execution_count": 218,
     "metadata": {},
     "output_type": "execute_result"
    }
   ],
   "source": [
    "features.head(65)"
   ]
  },
  {
   "cell_type": "code",
   "execution_count": null,
   "metadata": {},
   "outputs": [],
   "source": []
  }
 ],
 "metadata": {
  "kernelspec": {
   "display_name": "Python 3.8.13 ('at')",
   "language": "python",
   "name": "python3"
  },
  "language_info": {
   "codemirror_mode": {
    "name": "ipython",
    "version": 3
   },
   "file_extension": ".py",
   "mimetype": "text/x-python",
   "name": "python",
   "nbconvert_exporter": "python",
   "pygments_lexer": "ipython3",
   "version": "3.8.13"
  },
  "orig_nbformat": 4,
  "vscode": {
   "interpreter": {
    "hash": "87c5b572d513a8e1b16f159e9c08b70227f5428586aa6e244883eac046c1a491"
   }
  }
 },
 "nbformat": 4,
 "nbformat_minor": 2
}
